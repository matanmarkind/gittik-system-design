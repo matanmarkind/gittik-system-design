{
 "cells": [
  {
   "cell_type": "code",
   "execution_count": null,
   "metadata": {},
   "outputs": [],
   "source": [
    "# Classes are objects.\n",
    "class A:\n",
    "    def f(self):\n",
    "        print('f', self)\n",
    "\n",
    "def g(self):\n",
    "    print('g', self)\n",
    "\n",
    "a = A()\n",
    "a.f()\n",
    "\n",
    "a.g = g  # Add this as an object attribute.\n",
    "try:\n",
    "    a.g()  # Can't bind to self.\n",
    "except Exception as e:\n",
    "    print(e)\n",
    "\n",
    "del a.g\n",
    "A.g = g  # Add as a class attribute to bind to self.\n",
    "a.g()"
   ]
  },
  {
   "cell_type": "code",
   "execution_count": null,
   "metadata": {},
   "outputs": [],
   "source": [
    "# Miller Urey Experiment\n",
    "class A:\n",
    "    pass\n",
    "\n",
    "def f(x):\n",
    "    print(x)\n",
    "\n",
    "# Functions are descriptors.\n",
    "print('__get__' in dir(f))\n",
    "\n",
    "a = A()\n",
    "a.f = f\n",
    "b = A()\n",
    "b.f = f\n",
    "print(a.f, b.f)\n",
    "\n",
    "delattr(a, 'f')\n",
    "A.f = f\n",
    "print(a.f, b.f)  # Object attr takes precedence.\n",
    "\n",
    "delattr(b, 'f')\n",
    "delattr(A, 'f')\n",
    "a.f = f.__get__(a, A)  # Object local version of A.f = f.\n",
    "print(a.f)\n",
    "try:\n",
    "    print(b.f)\n",
    "except Exception as e:\n",
    "    print(e)"
   ]
  },
  {
   "cell_type": "code",
   "execution_count": null,
   "metadata": {},
   "outputs": [],
   "source": [
    "# Implementing property as a descriptor.\n",
    "class Property:\n",
    "    def __init__(self, get, set=None):\n",
    "        # Decoration on method allows captures it here.\n",
    "        self._get = get\n",
    "        self._set = set\n",
    "\n",
    "    def __get__(self, instance, cls):\n",
    "        # This is a descriptor, so calling the function name like a field\n",
    "        # calls to here.\n",
    "        if instance is None:\n",
    "            # Called from class not instance `A.p`.\n",
    "            return self\n",
    "        return self._get(instance)\n",
    "\n",
    "    def setter(self, fn):\n",
    "        # Decorator that captures the behavior for __set__.\n",
    "        self._set = fn\n",
    "\n",
    "    def __set__(self, instance, value):\n",
    "        if self._set is None:\n",
    "            raise TypeError('No setter defined')\n",
    "        if instance is None:\n",
    "            # Called from class not instance `A.p`.\n",
    "            return self\n",
    "        return self._set(instance, value)\n",
    "\n",
    "class A:\n",
    "    @Property\n",
    "    def p(self):\n",
    "        return 1\n",
    "\n",
    "    @p.setter\n",
    "    def set(self, value):\n",
    "        print(f'Set {value=}')\n",
    "\n",
    "a = A()\n",
    "print(a.p)\n",
    "a.p = 2\n",
    "A.p"
   ]
  },
  {
   "cell_type": "code",
   "execution_count": 13,
   "metadata": {},
   "outputs": [
    {
     "name": "stdout",
     "output_type": "stream",
     "text": [
      "x=1\n",
      "elapsed: 1.001 seconds\n"
     ]
    }
   ],
   "source": [
    "# generators with 1 yield can be context managers. Use contextlib.\n",
    "\n",
    "import time\n",
    "\n",
    "def contextmanager(g):\n",
    "    # g is a generator definition.\n",
    "\n",
    "    class ContextManager:\n",
    "        def __init__(self, *args, **kwargs):\n",
    "            self.g = g(*args, **kwargs)\n",
    "\n",
    "        def __enter__(self):\n",
    "            return next(self.g)\n",
    "\n",
    "        def __exit__(self, exception, error, traceback):\n",
    "            if exception:\n",
    "                self.execution.throw(exception, error, traceback)\n",
    "                return\n",
    "\n",
    "            try:\n",
    "                next(self.g)\n",
    "            except StopIteration:\n",
    "                return\n",
    "\n",
    "    return ContextManager\n",
    "\n",
    "@contextmanager\n",
    "def timer(x):\n",
    "    print(f'{x=}')\n",
    "    start = time.time()\n",
    "    yield\n",
    "    elapsed = time.time() - start\n",
    "    print(f'elapsed: {elapsed:0.3f} seconds')\n",
    "\n",
    "with timer(1):\n",
    "    time.sleep(1)"
   ]
  },
  {
   "cell_type": "code",
   "execution_count": 22,
   "metadata": {},
   "outputs": [
    {
     "name": "stdout",
     "output_type": "stream",
     "text": [
      "elapsed: 1.001 seconds\n"
     ]
    }
   ],
   "source": [
    "# Context Manager  -- Due to raise, keep this as the last cell.\n",
    "import time\n",
    "\n",
    "class Timer:\n",
    "    def __init__(self, suppress_errors=False):\n",
    "        self.suppress_errors = suppress_errors \n",
    "\n",
    "    def __enter__(self):\n",
    "        self.start = time.time()\n",
    "        return self\n",
    "\n",
    "    def __exit__(self, exception, error, traceback):\n",
    "        elapsed = time.time() - self.start\n",
    "        print(f'elapsed: {elapsed:0.3f} seconds')\n",
    "\n",
    "        # Returning a value which evaluates to True will suppress errors.\n",
    "        return self.suppress_errors\n",
    "\n",
    "try:\n",
    "    with Timer(suppress_errors=True):\n",
    "        time.sleep(1)\n",
    "        raise TypeError\n",
    "except TypeError:\n",
    "    print('Error')"
   ]
  },
  {
   "cell_type": "code",
   "execution_count": 19,
   "metadata": {},
   "outputs": [
    {
     "name": "stdout",
     "output_type": "stream",
     "text": [
      "foo\n",
      "foo\n",
      "True\n",
      "foo\n",
      "False\n"
     ]
    }
   ],
   "source": [
    "# Object creation (not initialization).\n",
    "class A:\n",
    "    _cache = {}\n",
    "    def __new__(cls, x):\n",
    "        # Same signature as init, except self/cls.\n",
    "        if x not in cls._cache:\n",
    "            instance = super().__new__(cls)\n",
    "            instance.x = x\n",
    "            cls._cache[x] = instance\n",
    "\n",
    "        # Calls __init__ after return.\n",
    "        return cls._cache[x]\n",
    "    \n",
    "    def __init__(self, x):\n",
    "        print('foo')\n",
    "\n",
    "a1 = A(1)\n",
    "a2 = A(1)\n",
    "print(a1 is a2)  # Identical, not just equal.\n",
    "a3 = A(3)\n",
    "print(a1 is a3)\n",
    "\n"
   ]
  },
  {
   "cell_type": "code",
   "execution_count": null,
   "metadata": {},
   "outputs": [],
   "source": [
    "# Class decorators.\n",
    "import threading\n",
    "\n",
    "# Decorates all methods with synchronize.\n",
    "def threadsafe(cls):\n",
    "    cls._lock = threading.Lock()  # Class can't have _lock\n",
    "\n",
    "    # Wrap all methods of the class.\n",
    "    for key, value in cls.__dict___.items():\n",
    "        if not callable(value):\n",
    "            continue\n",
    "        # Can't just use a lambda because that would cause late binding\n",
    "        # of `value`.\n",
    "        value = synchronize(value, cls._lock)\n",
    "        setattr(cls, key, value)\n",
    "\n",
    "    return cls\n",
    "\n",
    "# Calls a function under lock.\n",
    "def synchronize(function, lock):\n",
    "    def wrapper(*args, **kwargs):\n",
    "        with lock:\n",
    "            return function(*args, **kwargs)\n",
    "    return wrapper"
   ]
  },
  {
   "cell_type": "code",
   "execution_count": 34,
   "metadata": {},
   "outputs": [
    {
     "name": "stdout",
     "output_type": "stream",
     "text": [
      "Creating A\n",
      "<class '__main__.B'>\n",
      "0 1\n"
     ]
    },
    {
     "data": {
      "text/plain": [
       "42"
      ]
     },
     "execution_count": 34,
     "metadata": {},
     "output_type": "execute_result"
    }
   ],
   "source": [
    "# Dynamic classes\n",
    "class A:\n",
    "    for i in range(1):\n",
    "        print('Creating A')\n",
    "\n",
    "B = type('B', (A,), {'x': 1, 'f': lambda self: 42})\n",
    "print(B)\n",
    "b = B()\n",
    "print(b.i, b.x)\n",
    "b.f()\n"
   ]
  },
  {
   "cell_type": "code",
   "execution_count": 37,
   "metadata": {},
   "outputs": [
    {
     "name": "stdout",
     "output_type": "stream",
     "text": [
      "A () {'__module__': '__main__', '__qualname__': 'A'}\n",
      "B (<class '__main__.A'>,) {'__module__': '__main__', '__qualname__': 'B', 'x': 1, 'f': <function B.f at 0x7ff7935b7430>}\n"
     ]
    }
   ],
   "source": [
    "# Metaclasses - https://stackoverflow.com/questions/100003/what-are-metaclasses-in-python\n",
    "class M(type):\n",
    "    def __init__(cls, name, bases, attrs):\n",
    "        print(name, bases, attrs)\n",
    "\n",
    "class A(metaclass=M):\n",
    "    pass\n",
    "\n",
    "class B(A):\n",
    "    x = 1\n",
    "    def f(self):\n",
    "        return 42"
   ]
  },
  {
   "cell_type": "code",
   "execution_count": 47,
   "metadata": {},
   "outputs": [
    {
     "name": "stdout",
     "output_type": "stream",
     "text": [
      "A\n",
      "0\n",
      "1\n",
      "attribute x must by <class 'int'>\n",
      "B\n",
      "0\n",
      "1\n",
      "attribute x must by <class 'int'>\n"
     ]
    }
   ],
   "source": [
    "# Type Safety - Metaclass v Decorator\n",
    "\n",
    "class TypedProperty:\n",
    "    def __init__(self, name, T):\n",
    "        self.name = name\n",
    "        self.T = T\n",
    "\n",
    "    def __get__(self, instance, cls):\n",
    "        if instance is None:\n",
    "            return self\n",
    "        if self.name not in instance.__dict__:\n",
    "            instance.__dict__[self.name] = self.T()\n",
    "        return  instance.__dict__[self.name]\n",
    "\n",
    "    def __set__(self, instance, value):\n",
    "        if not isinstance(value, self.T):\n",
    "            raise TypeError(f'attribute {self.name} must by {self.T}')\n",
    "        instance.__dict__[self.name] = value\n",
    "        \n",
    "class TypeSafe(type):\n",
    "    def __init__(cls, name, bases, attrs):\n",
    "        for key, value in attrs.items():\n",
    "            if isinstance(value, type):\n",
    "                value = TypedProperty(key, value)\n",
    "                setattr(cls, key, value)\n",
    "\n",
    "def typesafe(cls):\n",
    "    for key, value in cls.__dict__.items():\n",
    "        if isinstance(value, type):\n",
    "            value = TypedProperty(key, value)\n",
    "            setattr(cls, key, value)\n",
    "    return cls\n",
    "\n",
    "class A(metaclass=TypeSafe):\n",
    "    x = int\n",
    "\n",
    "@typesafe\n",
    "class B:\n",
    "    x = int\n",
    "\n",
    "for cls in [A, B]:\n",
    "    print(cls.__name__G\n",
    "    )\n",
    "    a = cls()\n",
    "    print(a.x)\n",
    "    a.x = 1\n",
    "    print(a.x)\n",
    "\n",
    "    try:\n",
    "        a.x = '1'\n",
    "    except TypeError as e:\n",
    "        print(e)\n"
   ]
  },
  {
   "cell_type": "code",
   "execution_count": 56,
   "metadata": {},
   "outputs": [
    {
     "name": "stdout",
     "output_type": "stream",
     "text": [
      "__name__\n",
      "__name__\n",
      "APPLE\n",
      "ORANGE\n",
      "BANANA\n",
      "3 4 5\n"
     ]
    }
   ],
   "source": [
    "# Enum - can only be done with metaclasses.\n",
    "class ForgivingDict(dict):\n",
    "    def __getitem__(self, key):\n",
    "        print(key)\n",
    "        if key not in self:\n",
    "            self[key] = len(self)\n",
    "        return super().__getitem__(key)\n",
    "\n",
    "class EnumMetaclass(type):\n",
    "    def __prepare__(metacls, cls):\n",
    "        # This is the dict used to hold the namespace of subclasses.\n",
    "        return ForgivingDict()\n",
    "\n",
    "class Enum(metaclass=EnumMetaclass):\n",
    "    # This allows users not to have to `metaclass`. This works because\n",
    "    # metaclasses automatically work recursively on subclasses.\n",
    "    pass\n",
    "\n",
    "class Fruit(Enum):\n",
    "    APPLE\n",
    "    ORANGE\n",
    "    BANANA\n",
    "\n",
    "print(Fruit.APPLE, Fruit.ORANGE, Fruit.BANANA)"
   ]
  }
 ],
 "metadata": {
  "interpreter": {
   "hash": "916dbcbb3f70747c44a77c7bcd40155683ae19c65e1c03b4aa3499c5328201f1"
  },
  "kernelspec": {
   "display_name": "Python 3.8.10 64-bit",
   "language": "python",
   "name": "python3"
  },
  "language_info": {
   "codemirror_mode": {
    "name": "ipython",
    "version": 3
   },
   "file_extension": ".py",
   "mimetype": "text/x-python",
   "name": "python",
   "nbconvert_exporter": "python",
   "pygments_lexer": "ipython3",
   "version": "3.8.10"
  },
  "orig_nbformat": 4
 },
 "nbformat": 4,
 "nbformat_minor": 2
}
