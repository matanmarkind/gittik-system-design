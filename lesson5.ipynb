{
 "cells": [
  {
   "cell_type": "code",
   "execution_count": 3,
   "metadata": {},
   "outputs": [
    {
     "name": "stdout",
     "output_type": "stream",
     "text": [
      "<module 'sys' (built-in)>\n",
      "<module 'os' from '/usr/lib/python3.8/os.py'>\n",
      "<module 'math' (built-in)>\n",
      "<module 'django' from '/home/matan/.local/lib/python3.8/site-packages/django/__init__.py'>\n"
     ]
    }
   ],
   "source": [
    "# Types of modules\n",
    "import sys, os, math, django\n",
    "print(sys)  # built-in\n",
    "print(os)  # Python files\n",
    "print(math)  # C lib\n",
    "print(django)  # Third party"
   ]
  },
  {
   "cell_type": "code",
   "execution_count": 7,
   "metadata": {},
   "outputs": [
    {
     "name": "stdout",
     "output_type": "stream",
     "text": [
      "<module 'm'>\n",
      "{'__name__': 'm', '__doc__': None, '__package__': None, '__loader__': None, '__spec__': None}\n",
      "True\n",
      "Hello, world!\n"
     ]
    }
   ],
   "source": [
    "# Import system - done with dicts :)\n",
    "\n",
    "code = '''\n",
    "def hello():\n",
    "    print('Hello, world!')\n",
    "'''\n",
    "import types\n",
    "m = types.ModuleType('m')\n",
    "print(m)\n",
    "print(m.__dict__)\n",
    "exec(code, m.__dict__)\n",
    "print('hello' in m.__dict__)\n",
    "m.hello()"
   ]
  },
  {
   "cell_type": "code",
   "execution_count": 14,
   "metadata": {},
   "outputs": [
    {
     "name": "stdout",
     "output_type": "stream",
     "text": [
      "1\n",
      "2\n",
      "5\n"
     ]
    }
   ],
   "source": [
    "# Implementing test fixtures\n",
    "import inspect\n",
    "\n",
    "def f():\n",
    "    print(1)\n",
    "\n",
    "def g(x):\n",
    "    print(x)\n",
    "\n",
    "def h(x, y):\n",
    "    print(x + y)\n",
    "\n",
    "def call(f, **available):\n",
    "    # Retrieve the available arguments that `f` expects to receive.\n",
    "    expected = inspect.getfullargspec(f).args\n",
    "    kwargs = {k: v for k, v in available.items() if k in expected}\n",
    "    return f(**kwargs)\n",
    "\n",
    "call(f, x=2, y=3)\n",
    "call(g, x=2, y=3)\n",
    "call(h, x=2, y=3)"
   ]
  },
  {
   "cell_type": "code",
   "execution_count": 1,
   "metadata": {},
   "outputs": [
    {
     "name": "stdout",
     "output_type": "stream",
     "text": [
      "A1\n",
      "A2\n"
     ]
    }
   ],
   "source": [
    "# Abstract factory in Python is much simpler due to duck typing (no need \n",
    "# for the abstract class) and classes being objects (no need for factory\n",
    "# functions, just hold the concrete class as a class field of the factory).\n",
    "class ProductA1:\n",
    "    def use(self):\n",
    "        print('A1')\n",
    "class ProductB1:\n",
    "    def use(self):\n",
    "        print('B1')\n",
    "class Factory1:\n",
    "    ProductA = ProductA1\n",
    "    ProductB = ProductB1\n",
    "\n",
    "class ProductA2:\n",
    "    def use(self):\n",
    "        print('A2')\n",
    "class ProductB2:\n",
    "    def use(self):\n",
    "        print('B2')\n",
    "class Factory2:\n",
    "    ProductA = ProductA2\n",
    "    ProductB = ProductB2\n",
    "\n",
    "def create_and_use_a(factory):\n",
    "    a = factory.ProductA()\n",
    "    a.use()\n",
    "create_and_use_a(Factory1)\n",
    "create_and_use_a(Factory2)"
   ]
  },
  {
   "cell_type": "code",
   "execution_count": 6,
   "metadata": {},
   "outputs": [
    {
     "name": "stdout",
     "output_type": "stream",
     "text": [
      "True False\n"
     ]
    }
   ],
   "source": [
    "# Singleton - can always get around this in python.\n",
    "\n",
    "class Singleton:\n",
    "    instance = None\n",
    "\n",
    "    def __new__(cls):\n",
    "        if cls.instance is None:\n",
    "            cls.instance = super().__new__(cls)\n",
    "        return cls.instance\n",
    "\n",
    "i1 = Singleton()\n",
    "i2 = Singleton()\n",
    "i3 = object.__new__(Singleton)\n",
    "print(i1 is i2, i1 is i3)"
   ]
  },
  {
   "cell_type": "code",
   "execution_count": 11,
   "metadata": {},
   "outputs": [
    {
     "name": "stdout",
     "output_type": "stream",
     "text": [
      "False\n",
      "2\n"
     ]
    }
   ],
   "source": [
    "# Borg - a cool take on singleton, where each object is different, but\n",
    "# their state is shared.\n",
    "class Borg:\n",
    "    _dict = {'x': 1}\n",
    "    def __init__(self):\n",
    "        self.__dict__ = Borg._dict\n",
    "\n",
    "b1 = Borg()\n",
    "b2 = Borg()\n",
    "print(b1 is b2)\n",
    "b2.x = 2\n",
    "print(b1.x)"
   ]
  },
  {
   "cell_type": "code",
   "execution_count": 23,
   "metadata": {},
   "outputs": [
    {
     "name": "stdout",
     "output_type": "stream",
     "text": [
      "0 1 0.0007963267107332633 0.9999996829318346\n"
     ]
    }
   ],
   "source": [
    "# Factory method\n",
    "import math\n",
    "\n",
    "class Point:\n",
    "    def __init__(self, x, y):\n",
    "        self.x = x\n",
    "        self.y = y\n",
    "    \n",
    "    @staticmethod\n",
    "    def from_cartesian(x, y):\n",
    "        return Point(x, y)\n",
    "    \n",
    "    @staticmethod\n",
    "    def from_polar(r, t):\n",
    "        return Point(r * math.cos(t), r * math.sin(t))\n",
    "\n",
    "p1 = Point.from_cartesian(0, 1)\n",
    "p2 = Point.from_polar(1, math.pi)\n",
    "print(p1.x, p1.y, p2.x, p2.y)\n"
   ]
  }
 ],
 "metadata": {
  "interpreter": {
   "hash": "916dbcbb3f70747c44a77c7bcd40155683ae19c65e1c03b4aa3499c5328201f1"
  },
  "kernelspec": {
   "display_name": "Python 3.8.10 64-bit",
   "language": "python",
   "name": "python3"
  },
  "language_info": {
   "codemirror_mode": {
    "name": "ipython",
    "version": 3
   },
   "file_extension": ".py",
   "mimetype": "text/x-python",
   "name": "python",
   "nbconvert_exporter": "python",
   "pygments_lexer": "ipython3",
   "version": "3.8.10"
  },
  "orig_nbformat": 4
 },
 "nbformat": 4,
 "nbformat_minor": 2
}
