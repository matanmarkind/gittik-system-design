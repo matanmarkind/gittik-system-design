{
 "cells": [
  {
   "cell_type": "code",
   "execution_count": 3,
   "metadata": {},
   "outputs": [
    {
     "name": "stdout",
     "output_type": "stream",
     "text": [
      "<module 'sys' (built-in)>\n",
      "<module 'os' from '/usr/lib/python3.8/os.py'>\n",
      "<module 'math' (built-in)>\n",
      "<module 'django' from '/home/matan/.local/lib/python3.8/site-packages/django/__init__.py'>\n"
     ]
    }
   ],
   "source": [
    "# Types of modules\n",
    "import sys, os, math, django\n",
    "print(sys)  # built-in\n",
    "print(os)  # Python files\n",
    "print(math)  # C lib\n",
    "print(django)  # Third party"
   ]
  },
  {
   "cell_type": "code",
   "execution_count": 7,
   "metadata": {},
   "outputs": [
    {
     "name": "stdout",
     "output_type": "stream",
     "text": [
      "<module 'm'>\n",
      "{'__name__': 'm', '__doc__': None, '__package__': None, '__loader__': None, '__spec__': None}\n",
      "True\n",
      "Hello, world!\n"
     ]
    }
   ],
   "source": [
    "# Import system - done with dicts :)\n",
    "\n",
    "code = '''\n",
    "def hello():\n",
    "    print('Hello, world!')\n",
    "'''\n",
    "import types\n",
    "m = types.ModuleType('m')\n",
    "print(m)\n",
    "print(m.__dict__)\n",
    "exec(code, m.__dict__)\n",
    "print('hello' in m.__dict__)\n",
    "m.hello()"
   ]
  },
  {
   "cell_type": "code",
   "execution_count": 14,
   "metadata": {},
   "outputs": [
    {
     "name": "stdout",
     "output_type": "stream",
     "text": [
      "1\n",
      "2\n",
      "5\n"
     ]
    }
   ],
   "source": [
    "# Implementing test fixtures\n",
    "import inspect\n",
    "\n",
    "def f():\n",
    "    print(1)\n",
    "\n",
    "def g(x):\n",
    "    print(x)\n",
    "\n",
    "def h(x, y):\n",
    "    print(x + y)\n",
    "\n",
    "def call(f, **available):\n",
    "    # Retrieve the available arguments that `f` expects to receive.\n",
    "    expected = inspect.getfullargspec(f).args\n",
    "    kwargs = {k: v for k, v in available.items() if k in expected}\n",
    "    return f(**kwargs)\n",
    "\n",
    "call(f, x=2, y=3)\n",
    "call(g, x=2, y=3)\n",
    "call(h, x=2, y=3)"
   ]
  }
 ],
 "metadata": {
  "interpreter": {
   "hash": "916dbcbb3f70747c44a77c7bcd40155683ae19c65e1c03b4aa3499c5328201f1"
  },
  "kernelspec": {
   "display_name": "Python 3.8.10 64-bit",
   "language": "python",
   "name": "python3"
  },
  "language_info": {
   "codemirror_mode": {
    "name": "ipython",
    "version": 3
   },
   "file_extension": ".py",
   "mimetype": "text/x-python",
   "name": "python",
   "nbconvert_exporter": "python",
   "pygments_lexer": "ipython3",
   "version": "3.8.10"
  },
  "orig_nbformat": 4
 },
 "nbformat": 4,
 "nbformat_minor": 2
}
