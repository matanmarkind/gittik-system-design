{
 "cells": [
  {
   "cell_type": "code",
   "execution_count": null,
   "metadata": {},
   "outputs": [],
   "source": [
    "\"\"\"\n",
    "Python stores strings in unicode, they are not simply a vec of bytes.\n",
    "A stream/vec of bytes in python is a string prepended with b.\n",
    "\"\"\"\n",
    "print([i for i in 'abc'])\n",
    "print([i for i in b'abc'])"
   ]
  },
  {
   "cell_type": "code",
   "execution_count": null,
   "metadata": {},
   "outputs": [],
   "source": [
    "\"\"\"\n",
    "Unfortunately the display will automatically show relevant bytes as \n",
    "ASCII characters, but they are just bytes, not strings.\n",
    "\"\"\"\n",
    "import os\n",
    "\n",
    "os.urandom(5)"
   ]
  },
  {
   "cell_type": "code",
   "execution_count": null,
   "metadata": {},
   "outputs": [],
   "source": [
    "print('abc'.encode('utf16'))\n",
    "print(b'\\xff\\xfea\\x00b\\x00c\\x00'.decode('utf16'))"
   ]
  },
  {
   "cell_type": "code",
   "execution_count": null,
   "metadata": {},
   "outputs": [],
   "source": [
    "import dis\n",
    "\n",
    "def f(): x = 1\n",
    "print(f.__code__.co_code)\n",
    "print()\n",
    "dis.disassemble(f.__code__)"
   ]
  },
  {
   "cell_type": "code",
   "execution_count": null,
   "metadata": {},
   "outputs": [],
   "source": [
    "# Server - Run this here and then run the client section separately.\n",
    "# Can also be done with netcat.\n",
    "import socket\n",
    "server = socket.socket()\n",
    "server.setsockopt(socket.SOL_SOCKET, socket.SO_REUSEADDR, 1)  # Release the server on quit\n",
    "server.bind(('0.0.0.0', 8000))  # Listen on port 8000 from any source IP (?)\n",
    "server.listen(1000)  # Listen to up to 1000 connections\n",
    "client, address = server.accept()  # Hang until a connection comes through\n",
    "print(client.getpeername())\n",
    "print(client.getsockname())\n",
    "print(client.recv(1024))\n",
    "client.sendall(b'Hey there.')\n",
    "client.close()\n",
    "server.close()"
   ]
  },
  {
   "cell_type": "code",
   "execution_count": null,
   "metadata": {},
   "outputs": [],
   "source": [
    "\n",
    "# Client - Run in parallel to Server section (REPL).\n",
    "# Can also be done with netcat.\n",
    "import socket\n",
    "conn = socket.socket()\n",
    "conn.connect(('127.0.0.1', 8000))  # Listen on port 8000 from any source (any source NIC?)\n",
    "conn.getpeername()\n",
    "conn.getsockname()\n",
    "conn.sendall(b'Hello!')\n",
    "conn.recv(1024)\n",
    "conn.close()"
   ]
  },
  {
   "cell_type": "code",
   "execution_count": null,
   "metadata": {},
   "outputs": [],
   "source": [
    "# Simple HTTP server\n",
    "# Can run from command line:\n",
    "#   curl \"127.0.0.1:8000/hello\"\n",
    "import http.server\n",
    "\n",
    "class Handler(http.server.BaseHTTPRequestHandler):\n",
    "    def do_GET(self):\n",
    "        if self.path != '/hello':\n",
    "            self.send_response(404)\n",
    "            self.end_headers()\n",
    "            return\n",
    "\n",
    "        data = b'Hello, world!'\n",
    "        self.send_response(200)\n",
    "        self.send_header('Content-Type', 'text/plain')\n",
    "        self.send_header('Content-Length', len(data))\n",
    "        self.end_headers()\n",
    "        self.wfile.write(data)\n",
    "\n",
    "http_server = http.server.HTTPServer(('0.0.0.0', 8001), Handler)\n",
    "http_server.serve_forever()"
   ]
  },
  {
   "cell_type": "code",
   "execution_count": 1,
   "metadata": {},
   "outputs": [
    {
     "ename": "OSError",
     "evalue": "[Errno 98] Address already in use",
     "output_type": "error",
     "traceback": [
      "\u001b[0;31m---------------------------------------------------------------------------\u001b[0m",
      "\u001b[0;31mOSError\u001b[0m                                   Traceback (most recent call last)",
      "\u001b[0;32m/tmp/ipykernel_64032/2470051246.py\u001b[0m in \u001b[0;36m<module>\u001b[0;34m\u001b[0m\n\u001b[1;32m     46\u001b[0m \u001b[0;34m\u001b[0m\u001b[0m\n\u001b[1;32m     47\u001b[0m \u001b[0mserver\u001b[0m \u001b[0;34m=\u001b[0m \u001b[0mServer\u001b[0m\u001b[0;34m(\u001b[0m\u001b[0;34m'127.0.0.1'\u001b[0m\u001b[0;34m,\u001b[0m \u001b[0;36m8002\u001b[0m\u001b[0;34m)\u001b[0m\u001b[0;34m\u001b[0m\u001b[0;34m\u001b[0m\u001b[0m\n\u001b[0;32m---> 48\u001b[0;31m \u001b[0mserver\u001b[0m\u001b[0;34m.\u001b[0m\u001b[0mstart\u001b[0m\u001b[0;34m(\u001b[0m\u001b[0;34m)\u001b[0m\u001b[0;34m\u001b[0m\u001b[0;34m\u001b[0m\u001b[0m\n\u001b[0m",
      "\u001b[0;32m/tmp/ipykernel_64032/2470051246.py\u001b[0m in \u001b[0;36mstart\u001b[0;34m(self)\u001b[0m\n\u001b[1;32m     35\u001b[0m     \u001b[0;32mdef\u001b[0m \u001b[0mstart\u001b[0m\u001b[0;34m(\u001b[0m\u001b[0mself\u001b[0m\u001b[0;34m)\u001b[0m\u001b[0;34m:\u001b[0m\u001b[0;34m\u001b[0m\u001b[0;34m\u001b[0m\u001b[0m\n\u001b[1;32m     36\u001b[0m         \u001b[0mlistener\u001b[0m \u001b[0;34m=\u001b[0m \u001b[0msocket\u001b[0m\u001b[0;34m.\u001b[0m\u001b[0msocket\u001b[0m\u001b[0;34m(\u001b[0m\u001b[0;34m)\u001b[0m\u001b[0;34m\u001b[0m\u001b[0;34m\u001b[0m\u001b[0m\n\u001b[0;32m---> 37\u001b[0;31m         \u001b[0mlistener\u001b[0m\u001b[0;34m.\u001b[0m\u001b[0mbind\u001b[0m\u001b[0;34m(\u001b[0m\u001b[0;34m(\u001b[0m\u001b[0mself\u001b[0m\u001b[0;34m.\u001b[0m\u001b[0mhost\u001b[0m\u001b[0;34m,\u001b[0m \u001b[0mself\u001b[0m\u001b[0;34m.\u001b[0m\u001b[0mport\u001b[0m\u001b[0;34m)\u001b[0m\u001b[0;34m)\u001b[0m\u001b[0;34m\u001b[0m\u001b[0;34m\u001b[0m\u001b[0m\n\u001b[0m\u001b[1;32m     38\u001b[0m         \u001b[0mlistener\u001b[0m\u001b[0;34m.\u001b[0m\u001b[0mlisten\u001b[0m\u001b[0;34m(\u001b[0m\u001b[0;36m1000\u001b[0m\u001b[0;34m)\u001b[0m\u001b[0;34m\u001b[0m\u001b[0;34m\u001b[0m\u001b[0m\n\u001b[1;32m     39\u001b[0m         \u001b[0;32mwhile\u001b[0m \u001b[0;32mTrue\u001b[0m\u001b[0;34m:\u001b[0m\u001b[0;34m\u001b[0m\u001b[0;34m\u001b[0m\u001b[0m\n",
      "\u001b[0;31mOSError\u001b[0m: [Errno 98] Address already in use"
     ]
    }
   ],
   "source": [
    "# Multiplethreaded echo server.\n",
    "import threading\n",
    "import socket\n",
    "\n",
    "# Creating a new handling creates a new thread which will \n",
    "# run the relevant code.\n",
    "class ThreadHandler(threading.Thread):\n",
    "    def __init__(self, connection):\n",
    "        super().__init__()\n",
    "        self.connection = connection\n",
    "        self.lock = threading.Lock()\n",
    "    # calling Thread.start triggers `run` to run in a separate \n",
    "    # thread.\n",
    "    def run(self):\n",
    "        while True:\n",
    "            data = self.connection.recv(1024)\n",
    "            if not data:\n",
    "                break\n",
    "            # Perform the critical section in a single threaded manner.\n",
    "            # This will block other Handlers from entering their own\n",
    "            # critical sections, but not the Server from spawning\n",
    "            # new threads.\n",
    "            with self.lock:\n",
    "                # Imagine a race sensitive activity, such as writing\n",
    "                # to a file.\n",
    "                self.connection.sendall(data)\n",
    "\n",
    "# Multiplethreaded echo server.\n",
    "class Server:\n",
    "    def __init__(self, host, port) -> None:\n",
    "        self.host = host\n",
    "        self.port = port\n",
    "    def start(self):\n",
    "        listener = socket.socket()\n",
    "        listener.bind((self.host, self.port))\n",
    "        listener.listen(1000)\n",
    "        while True:\n",
    "            connection, address = listener.accept()\n",
    "            # Create a handler which will handle this connection\n",
    "            # in a separate thread.\n",
    "            handler = ThreadHandler(connection)\n",
    "            handler.start()\n",
    "\n",
    "server = Server('127.0.0.1', 8002)\n",
    "server.start()"
   ]
  }
 ],
 "metadata": {
  "interpreter": {
   "hash": "916dbcbb3f70747c44a77c7bcd40155683ae19c65e1c03b4aa3499c5328201f1"
  },
  "kernelspec": {
   "display_name": "Python 3.8.10 64-bit",
   "language": "python",
   "name": "python3"
  },
  "language_info": {
   "codemirror_mode": {
    "name": "ipython",
    "version": 3
   },
   "file_extension": ".py",
   "mimetype": "text/x-python",
   "name": "python",
   "nbconvert_exporter": "python",
   "pygments_lexer": "ipython3",
   "version": "3.8.10"
  },
  "orig_nbformat": 4
 },
 "nbformat": 4,
 "nbformat_minor": 2
}
