{
 "cells": [
  {
   "cell_type": "code",
   "execution_count": null,
   "metadata": {},
   "outputs": [],
   "source": [
    "# Packing\n",
    "\n",
    "numbers = 1, 2, 3  # Packs this into a tuple\n",
    "print(numbers)\n",
    "x, y, z = numbers  # Unpacks each value\n",
    "print(x, y, z)\n",
    "x, [y, [z]] = [1, [2, [3]]]  # Unpacking also follows pattern matching.\n",
    "print(x, y, z)\n",
    "\n",
    "a, *b = numbers  # Star unpacking allows 1 variable to take N values\n",
    "print(a, b)\n",
    "numbers = a, b\n",
    "print(numbers)\n",
    "numbers = a, *b  # Star unpacking allows N variables to unpack\n",
    "print(numbers)"
   ]
  },
  {
   "cell_type": "code",
   "execution_count": null,
   "metadata": {},
   "outputs": [],
   "source": [
    "# Values are either immutable and act as Copy on Write (string, int, etc.)\n",
    "# Mutable and pass by reference (most things).\n",
    "a = 1\n",
    "b = a\n",
    "a += 1\n",
    "print(a, b)\n",
    "\n",
    "c =[1]\n",
    "d = c\n",
    "d.append(2)\n",
    "print(c, d)\n"
   ]
  },
  {
   "cell_type": "code",
   "execution_count": null,
   "metadata": {},
   "outputs": [],
   "source": [
    "# Scopes - these are namespaces where variables are looked up by their name. {str : val}.\n",
    "x = 1\n",
    "def f():\n",
    "    y = 2\n",
    "    def g():\n",
    "        z = 3\n",
    "        print(locals())\n",
    "        print(globals())\n",
    "    g()\n",
    "f()"
   ]
  },
  {
   "cell_type": "code",
   "execution_count": null,
   "metadata": {},
   "outputs": [],
   "source": [
    "# To modify a variable out of the local scope you need to declare it as\n",
    "# coming from another scope.\n",
    "x = 1\n",
    "def f():\n",
    "    global x\n",
    "    x += 1\n",
    "f()\n",
    "print(x)"
   ]
  },
  {
   "cell_type": "code",
   "execution_count": null,
   "metadata": {},
   "outputs": [],
   "source": [
    "# nonlocal means it is not int the local scope nor in the global one.\n",
    "def f():\n",
    "    x = 1\n",
    "    def g():\n",
    "        nonlocal x\n",
    "        x = 2\n",
    "    g()\n",
    "    return x\n",
    "f()"
   ]
  },
  {
   "cell_type": "code",
   "execution_count": null,
   "metadata": {},
   "outputs": [],
   "source": [
    "# Late binding can cause capture by reference when we expect capture by value.\n",
    "fs = []\n",
    "for i in range(10):\n",
    "    fs.append(lambda: i)\n",
    "print(fs[3]())\n",
    "\n",
    "# Adding indirection forces the variable to be captured by value since the\n",
    "# ref is temporary.\n",
    "def create_lambda(i):\n",
    "    return lambda: i\n",
    "\n",
    "fs = []\n",
    "for i in range(10):\n",
    "    fs.append(create_lambda(i))\n",
    "print(fs[3]())\n"
   ]
  },
  {
   "cell_type": "code",
   "execution_count": null,
   "metadata": {},
   "outputs": [],
   "source": [
    "# Walrus operator - like ‘=’ in C which returns the value of the assignment\n",
    "xs = [1, 2, 3, 4, 5, 6]\n",
    "if (n := len(xs)) > 5:\n",
    "    print(f'list is too long: {n}')"
   ]
  },
  {
   "cell_type": "code",
   "execution_count": null,
   "metadata": {},
   "outputs": [],
   "source": [
    "# Conditions return the last value assessed\n",
    "def greet(name):\n",
    "    print(f'Hello, {name or \"stranger\"}')\n",
    "greet('Matan')\n",
    "greet('')"
   ]
  },
  {
   "cell_type": "code",
   "execution_count": null,
   "metadata": {},
   "outputs": [],
   "source": [
    "# Compund conditions - works like 'and' statements\n",
    "# Ternary operator - then_value if condition else else_value\n",
    "x = 1.1\n",
    "\"true\" if 1 < x < 2 else \"false\""
   ]
  },
  {
   "cell_type": "code",
   "execution_count": null,
   "metadata": {},
   "outputs": [],
   "source": [
    "# Foreach is native for looping.\n",
    "# Can iterate a slice which controls the directions and step size.\n",
    "# Slicing does though create a temporary list with refs to all the values.\n",
    "# The cost is in the size of list, not the size of the elements.\n",
    "ll = [1, 2, 3]\n",
    "for i in ll[::-1]:\n",
    "    print(i)\n",
    "\n",
    "# Many operators are baked in though and help read like English.\n",
    "# This also avoids creation of a temporary list.\n",
    "for i in reversed(ll):\n",
    "    print(i)"
   ]
  },
  {
   "cell_type": "code",
   "execution_count": null,
   "metadata": {},
   "outputs": [],
   "source": [
    "# Else can be put at the end of a loop to run iff the loop completes (not break).\n",
    "for x in [1, 2, 3]:\n",
    "    for y in [3, 4, 5]:\n",
    "        print(x, y)\n",
    "        if x == y:\n",
    "            break\n",
    "    else:\n",
    "        # This means y completed iterating without a break.\n",
    "        continue\n",
    "    # This means that the 'else' clause didn't run.\n",
    "    break"
   ]
  },
  {
   "cell_type": "code",
   "execution_count": null,
   "metadata": {},
   "outputs": [],
   "source": [
    "# Loops can overwrite values.\n",
    "x = 1\n",
    "for x in [2]:\n",
    "    pass\n",
    "x\n"
   ]
  },
  {
   "cell_type": "code",
   "execution_count": null,
   "metadata": {},
   "outputs": [],
   "source": [
    "# Mutable default arg.\n",
    "def append(items=[]):\n",
    "    items.append(1)\n",
    "    return items\n",
    "\n",
    "print(append())\n",
    "print(append())"
   ]
  },
  {
   "cell_type": "code",
   "execution_count": null,
   "metadata": {},
   "outputs": [],
   "source": [
    "# Star packing works for positional parameters.\n",
    "def average(*ls):\n",
    "    return sum(ls) / len(ls)\n",
    "average(1), average(1, 2, 3)"
   ]
  },
  {
   "cell_type": "code",
   "execution_count": null,
   "metadata": {},
   "outputs": [],
   "source": [
    "# kwargs - combination of star packing with keyword arguments.\n",
    "# The double ** signals \"take all keyword args that don't match an \n",
    "# explicit parameter and build them into a dict of {name : val}\"\n",
    "def f(x, **kwargs):\n",
    "    print(kwargs)\n",
    "f(x=1, y=2)"
   ]
  },
  {
   "cell_type": "code",
   "execution_count": null,
   "metadata": {},
   "outputs": [],
   "source": [
    "# Double star unpacking also works to destructure a dict into {key : val}\n",
    "d1 = {'x': 1}\n",
    "d2 = {'y': 2}\n",
    "{**d1, **d2}  # If there is a key conflict, the last one wins."
   ]
  },
  {
   "cell_type": "code",
   "execution_count": null,
   "metadata": {},
   "outputs": [],
   "source": [
    "# Placing a '*' without arg name forces all following params to be\n",
    "# specified by name at the callsite.\n",
    "def f(x, *, y):\n",
    "    print(y, x)\n",
    "f(1, y=2)  # must use `y=`\n",
    "\n",
    "# Placing a '/' forces all leading params to be specified by position \n",
    "# at the callsite.\n",
    "def g(x, y, /):\n",
    "    print(x, y)\n",
    "g(1, 2)  # TypeError if name the args."
   ]
  },
  {
   "cell_type": "code",
   "execution_count": null,
   "metadata": {},
   "outputs": [],
   "source": [
    "# Type annotations act as documentation. mypy can be used to enforce type validity.\n",
    "def add(a: int, b: int) -> int:\n",
    "    return a + b\n",
    "print(add(1, 2))\n",
    "print(add('Hello', 'World'))"
   ]
  },
  {
   "cell_type": "code",
   "execution_count": null,
   "metadata": {},
   "outputs": [],
   "source": [
    "# Functions are first class citizens.\n",
    "\n",
    "# Can be passed as parameters.\n",
    "def call_twice(f, *args, **kwargs):\n",
    "    f(*args, **kwargs)\n",
    "    f(*args, **kwargs)\n",
    "call_twice(print, 'Hello, world!')\n",
    "\n",
    "# Can be return valus:\n",
    "def create_power(n):\n",
    "    def power(x):\n",
    "        # Depends on capturing n by value.\n",
    "        return x ** n\n",
    "    return power\n",
    "square = create_power(2)\n",
    "cube = create_power(3)\n",
    "square(3), cube(3)\n"
   ]
  },
  {
   "cell_type": "code",
   "execution_count": null,
   "metadata": {},
   "outputs": [],
   "source": [
    "# Functions can hold fields\n",
    "def hello():\n",
    "    hello.runs += 1  # Called with fn name, not self.\n",
    "    print('Hello, world!')\n",
    "hello.runs = 0\n",
    "hello()\n",
    "hello()\n",
    "hello.runs"
   ]
  },
  {
   "cell_type": "code",
   "execution_count": null,
   "metadata": {},
   "outputs": [],
   "source": [
    "# Decorators can wrap a function in some additional logic\n",
    "# Trace example with semi-parameterization in q1/e2b.py\n",
    "def double(f):\n",
    "    def wrapper(*args, **kwargs):\n",
    "        return f(*args, **kwargs) * 2\n",
    "    return wrapper\n",
    "\n",
    "@double\n",
    "def inc(x):\n",
    "    return x + 1\n",
    "inc(1)"
   ]
  },
  {
   "cell_type": "code",
   "execution_count": null,
   "metadata": {},
   "outputs": [],
   "source": [
    "# Making the wrapper transparent (just use functools.wraps).\n",
    "def wraps(original):\n",
    "    def wrapper(inner_wrapper):\n",
    "        inner_wrapper.__name__ = original.__name__\n",
    "        inner_wrapper.__doc__ = original.__doc__\n",
    "        return inner_wrapper\n",
    "    return wrapper\n",
    "\n",
    "# 2nd order decorators.\n",
    "def double(f):\n",
    "    @wraps(f)\n",
    "    def wrapper(*args, **kwargs):\n",
    "        return f(*args, **kwargs) * 2\n",
    "    return wrapper\n",
    "\n",
    "@double\n",
    "def inc(x):\n",
    "    \"\"\"Increment the input by 1\"\"\"\n",
    "    return x + 1\n",
    "print(inc.__name__)\n",
    "print(inc.__doc__)\n",
    "inc(1)"
   ]
  }
 ],
 "metadata": {
  "interpreter": {
   "hash": "916dbcbb3f70747c44a77c7bcd40155683ae19c65e1c03b4aa3499c5328201f1"
  },
  "kernelspec": {
   "display_name": "Python 3.8.10 64-bit",
   "language": "python",
   "name": "python3"
  },
  "language_info": {
   "codemirror_mode": {
    "name": "ipython",
    "version": 3
   },
   "file_extension": ".py",
   "mimetype": "text/x-python",
   "name": "python",
   "nbconvert_exporter": "python",
   "pygments_lexer": "ipython3",
   "version": "3.8.10"
  },
  "orig_nbformat": 4
 },
 "nbformat": 4,
 "nbformat_minor": 2
}
