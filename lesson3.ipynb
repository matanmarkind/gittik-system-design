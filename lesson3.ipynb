{
 "cells": [
  {
   "cell_type": "code",
   "execution_count": null,
   "metadata": {},
   "outputs": [],
   "source": [
    "# Generators are iterable\n",
    "def gen():\n",
    "    yield 1\n",
    "    yield 2\n",
    "    yield 3\n",
    "[i for i in gen()]"
   ]
  },
  {
   "cell_type": "code",
   "execution_count": null,
   "metadata": {},
   "outputs": [],
   "source": [
    "# Generator returning generator\n",
    "def gen1():\n",
    "    yield 1\n",
    "\n",
    "def gen2():\n",
    "    yield 2\n",
    "\n",
    "def gen():\n",
    "    yield from gen1()\n",
    "    yield from gen2()\n",
    "\n",
    "[i for i in gen()]"
   ]
  },
  {
   "cell_type": "code",
   "execution_count": null,
   "metadata": {},
   "outputs": [],
   "source": [
    "# Generator comprehension\n",
    "\n",
    "# Could do this with a list comprehension and take the first element, but that\n",
    "# would create the entire list just to get the first value.\n",
    "x = (i for i in range(1000) if i**2 > 1000)\n",
    "next(x)"
   ]
  },
  {
   "cell_type": "code",
   "execution_count": null,
   "metadata": {},
   "outputs": [],
   "source": [
    "# Stateful Coroutine\n",
    "def coro():\n",
    "    print('starting')\n",
    "    x = yield 1\n",
    "    print(f'x = {x}')\n",
    "    y = yield 2\n",
    "    print(f'y = {y}')\n",
    "\n",
    "c = coro()\n",
    "print(next(c))\n",
    "\n",
    "# Sends this value back to the yield statement and continues on to the next yield.\n",
    "print(c.send(3))\n",
    "\n",
    "# Calling next here would continue the function to print y and then raise StopIteration\n",
    "# since there is no yield statement left."
   ]
  },
  {
   "cell_type": "code",
   "execution_count": null,
   "metadata": {},
   "outputs": [],
   "source": [
    "# Mutability - can you change the value pointed to or just the pointer.\n",
    "# E.g. ints look mutable because we mutate `n` but really we point to a different value.\n",
    "n = 1\n",
    "print(id(n))\n",
    "n += 1\n",
    "print(id(n))\n"
   ]
  },
  {
   "cell_type": "code",
   "execution_count": null,
   "metadata": {},
   "outputs": [],
   "source": [
    "# (Im)Mutability doesn't effect sub objects.\n",
    "# Tuples are immutable, but we can still mutate internals.\n",
    "x = [], 1\n",
    "print(x, id(x))\n",
    "x[0].append(1)\n",
    "print(x, id(x))"
   ]
  },
  {
   "cell_type": "code",
   "execution_count": null,
   "metadata": {},
   "outputs": [],
   "source": [
    "# Mutability means that a change in 1 location can affect other places.\n",
    "ll = [[]] * 5  # Repeats the same empty list (by ref) for all elements\n",
    "ll[0].append(1)\n",
    "ll"
   ]
  },
  {
   "cell_type": "code",
   "execution_count": null,
   "metadata": {},
   "outputs": [],
   "source": [
    "# Proper display\n",
    "class User:\n",
    "    def __init__(self, name):\n",
    "        self.name = name\n",
    "\n",
    "    def __str__(self):\n",
    "        return self.name\n",
    "\n",
    "    def __repr__(self):\n",
    "        # Show the construction with the repr of each param.\n",
    "        return f'{self.__class__.__name__}({self.name!r})'\n",
    "\n",
    "\n",
    "user = User('Alice')\n",
    "user"
   ]
  },
  {
   "cell_type": "code",
   "execution_count": null,
   "metadata": {},
   "outputs": [],
   "source": [
    "# Equality:\n",
    "# Generally Python favors calling the subclass for operators, not just for __eq__.\n",
    "class A:\n",
    "    def __init__(self, x):\n",
    "        self.x = x\n",
    "    \n",
    "    def __eq__(self, other):\n",
    "        print(f'A.__eq__({self!r}, {other!r}')\n",
    "        return isinstance(other, A) and self.x == other.x\n",
    "\n",
    "class B(A):\n",
    "    def __eq__(self, other):\n",
    "        print(f'B.__eq__({self!r}, {other!r}')\n",
    "        return isinstance(other, B) and self.x == other.x\n",
    "    \n",
    "class C:\n",
    "    def __init__(self, x):\n",
    "        self.x = x\n",
    "    \n",
    "    def __eq__(self, other):\n",
    "        print(f'C.__eq__({self!r}, {other!r}')\n",
    "        return isinstance(other, C) and self.x == other.x\n",
    "\n",
    "a = A(1)\n",
    "b = B(1)\n",
    "c = C(1)\n",
    "print(a == b, b == a)\n",
    "print(a == c, c == a)\n",
    "print(b == c, c == b)"
   ]
  },
  {
   "cell_type": "code",
   "execution_count": null,
   "metadata": {},
   "outputs": [],
   "source": [
    "# Comparison - different types shouldn't imply a >=< relationship.\n",
    "# For equality this is simply false. For comparison this is an erro.\n",
    "# Equality seems to favor the subclass.\n",
    "class A:\n",
    "    def __init__(self, x):\n",
    "        self.x = x\n",
    "    \n",
    "    def __gt__(self, other):\n",
    "        print(f'A.__gt__({self!r}, {other!r}')\n",
    "        if not isinstance(other, A):\n",
    "            # Signals to python to flip: self > other into (other <)\n",
    "            return NotImplemented\n",
    "        return self.x > other.x\n",
    "\n",
    "class Epsilon:\n",
    "    def __lt__(self, other):\n",
    "        print(f'Epsilon.__lt__({self!r}, {other!r}')\n",
    "        return True\n",
    "\n",
    "e = Epsilon()\n",
    "a = A(1)\n",
    "print(e < a)\n",
    "print(a > e)\n"
   ]
  },
  {
   "cell_type": "code",
   "execution_count": null,
   "metadata": {},
   "outputs": [],
   "source": [
    "# Callable classes can be decorators.\n",
    "class Memoized:\n",
    "    def __init__(self, f):\n",
    "        self.f = f\n",
    "        self.cache = {}\n",
    "    \n",
    "    def __call__(self, *args, **kwargs):\n",
    "        token = args + tuple(kwargs.items())\n",
    "        if token not in self.cache:\n",
    "            self.cache[token] = self.f(*args, **kwargs)\n",
    "        return  self.cache[token]\n",
    "\n",
    "# Calls init on fib.\n",
    "@Memoized\n",
    "def fib(n):\n",
    "    return n if n < 2 else fib(n-1) + fib(n-2)\n",
    "\n",
    "print(fib(10))\n",
    "fib.cache"
   ]
  },
  {
   "cell_type": "code",
   "execution_count": null,
   "metadata": {},
   "outputs": [],
   "source": [
    "# Build our own data frame with getitem\n",
    "class DataFrame:\n",
    "    \"\"\"\n",
    "    Matrix where each col is identified by a string and contains a list of values.\n",
    "    {'col_name' : [values]}\n",
    "    \"\"\"\n",
    "    def __init__(self, values):\n",
    "        self.values = values\n",
    "    def __getitem__(self, arg):\n",
    "        if isinstance(arg, str):\n",
    "            return Filter(arg, self.values) \n",
    "        if isinstance(arg, list):\n",
    "            return [val for val, include in zip(self.values, arg) if include]\n",
    "\n",
    "class Filter:\n",
    "    def __init__(self, key, values):\n",
    "        self.key = key\n",
    "        self.values = values\n",
    "    def __gt__(self, other):\n",
    "        return [val[self.key] > other for val in self.values]\n",
    "\n",
    "df = DataFrame([{'x': i, 'y': i**2} for i in range(5)])\n",
    "df[df['y'] > 5]"
   ]
  },
  {
   "cell_type": "code",
   "execution_count": null,
   "metadata": {},
   "outputs": [],
   "source": [
    "# Iterables\n",
    "class A:\n",
    "    def __init__(self, x):\n",
    "        self.x = x\n",
    "    def __iter__(self):\n",
    "        for i in range(self.x):\n",
    "            yield self.x\n",
    "\n",
    "a = A(3)\n",
    "[i for i in a]"
   ]
  },
  {
   "cell_type": "code",
   "execution_count": null,
   "metadata": {},
   "outputs": [],
   "source": [
    "# Method resolution order - Diamond Inheritance\n",
    "class A:\n",
    "    x = 1\n",
    "class B(A):\n",
    "    x = 2\n",
    "class C(A):\n",
    "    x = 3\n",
    "class D(B, C):\n",
    "    pass\n",
    "\n",
    "d = D()\n",
    "print(d.x)\n",
    "D.__mro__"
   ]
  },
  {
   "cell_type": "code",
   "execution_count": null,
   "metadata": {},
   "outputs": [],
   "source": [
    "# Super calls to all parents. Iterates over self.__class__.__mro__.\n",
    "class A:\n",
    "    def f(self):\n",
    "        print('A')\n",
    "class B(A):\n",
    "    def f(self):\n",
    "        print('B')\n",
    "        super().f()\n",
    "class C(A):\n",
    "    def f(self):\n",
    "        print('C')\n",
    "        super().f()\n",
    "class D(B, C):\n",
    "    def f(self):\n",
    "        print('D')\n",
    "        super().f()\n",
    "\n",
    "d = D()\n",
    "d.f()"
   ]
  },
  {
   "cell_type": "code",
   "execution_count": 7,
   "metadata": {},
   "outputs": [
    {
     "name": "stdout",
     "output_type": "stream",
     "text": [
      "class instance\n",
      "class newval\n",
      "x x\n"
     ]
    }
   ],
   "source": [
    "# Attribute priority. Note similarity to namespace.\n",
    "class A:\n",
    "    x = 'class'  # Class Attribute\n",
    "    def __init__(self):\n",
    "        self.x = 'instance'  # Object/Instance Attribute\n",
    "    def __getattr__(self, key):\n",
    "        # Dynamic Attribute - there's also set & del.\n",
    "        return key\n",
    "\n",
    "a = A()\n",
    "b = A()\n",
    "\n",
    "delattr(a, 'x')  # Delete object attribute. Only effects `a`.\n",
    "print(a.x, b.x)  # Lookup now falls back to class attribute.\n",
    "\n",
    "delattr(b, 'x')\n",
    "b.x = 'newval'  # Updates object attribute, not class attribute.\n",
    "print(a.x, b.x)\n",
    "\n",
    "delattr(b, 'x')  # Delete the object attribute.\n",
    "delattr(A, 'x')  # Delete class attribute.\n",
    "print(a.x, b.x)  # All instances now lack the class attribute."
   ]
  },
  {
   "cell_type": "code",
   "execution_count": 8,
   "metadata": {},
   "outputs": [
    {
     "name": "stdout",
     "output_type": "stream",
     "text": [
      "get instance=<__main__.A object at 0x7fabf5260670> cls=<class '__main__.A'>\n",
      "42\n",
      "setting <__main__.A object at 0x7fabf5260670>'s value to 1\n",
      "deleting <__main__.A object at 0x7fabf5260670>'s value\n",
      "get instance=<__main__.A object at 0x7fabf5260670> cls=<class '__main__.A'>\n",
      "42\n"
     ]
    }
   ],
   "source": [
    "# Descriptors take precedence over dynamic attributes of the class.\n",
    "class D:\n",
    "    def __get__(self, instance, cls):\n",
    "        print(f'get {instance=} {cls=}')\n",
    "        return 42\n",
    "    def __set__(self, instance, value):\n",
    "        print(f\"setting {instance}'s value to {value!r}\")\n",
    "    def __delete__(self, instance):\n",
    "        print(f\"deleting {instance}'s value\")\n",
    "\n",
    "class A:\n",
    "    # Descriptors must be set at the class.\n",
    "    d = D()\n",
    "\n",
    "a = A()\n",
    "print(a.d)\n",
    "a.d = 1  # Calls to set, doesn't create a new field.\n",
    "del a.d\n",
    "print(a.d)"
   ]
  }
 ],
 "metadata": {
  "interpreter": {
   "hash": "916dbcbb3f70747c44a77c7bcd40155683ae19c65e1c03b4aa3499c5328201f1"
  },
  "kernelspec": {
   "display_name": "Python 3.8.10 64-bit",
   "language": "python",
   "name": "python3"
  },
  "language_info": {
   "codemirror_mode": {
    "name": "ipython",
    "version": 3
   },
   "file_extension": ".py",
   "mimetype": "text/x-python",
   "name": "python",
   "nbconvert_exporter": "python",
   "pygments_lexer": "ipython3",
   "version": "3.8.10"
  },
  "orig_nbformat": 4
 },
 "nbformat": 4,
 "nbformat_minor": 2
}
